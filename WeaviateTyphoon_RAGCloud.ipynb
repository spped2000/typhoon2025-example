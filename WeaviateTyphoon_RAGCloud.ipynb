{
 "cells": [
  {
   "cell_type": "markdown",
   "metadata": {},
   "source": [
    "## Build Database using weaviate-client\n"
   ]
  },
  {
   "cell_type": "code",
   "execution_count": null,
   "metadata": {},
   "outputs": [
    {
     "name": "stderr",
     "output_type": "stream",
     "text": [
      "c:\\Users\\natdhanai.pra\\Documents\\AI_LLMs\\.venv\\Lib\\site-packages\\IPython\\utils\\_process_win32.py:124: ResourceWarning: unclosed file <_io.BufferedWriter name=3>\n",
      "  return process_handler(cmd, _system_body)\n",
      "ResourceWarning: Enable tracemalloc to get the object allocation traceback\n",
      "c:\\Users\\natdhanai.pra\\Documents\\AI_LLMs\\.venv\\Lib\\site-packages\\IPython\\utils\\_process_win32.py:124: ResourceWarning: unclosed file <_io.BufferedReader name=4>\n",
      "  return process_handler(cmd, _system_body)\n",
      "ResourceWarning: Enable tracemalloc to get the object allocation traceback\n",
      "c:\\Users\\natdhanai.pra\\Documents\\AI_LLMs\\.venv\\Lib\\site-packages\\IPython\\utils\\_process_win32.py:124: ResourceWarning: unclosed file <_io.BufferedReader name=5>\n",
      "  return process_handler(cmd, _system_body)\n",
      "ResourceWarning: Enable tracemalloc to get the object allocation traceback\n"
     ]
    }
   ],
   "source": [
    "!pip install weaviate-client\n"
   ]
  },
  {
   "cell_type": "code",
   "execution_count": 2,
   "metadata": {},
   "outputs": [],
   "source": [
    "import os\n",
    "typhoon_api_key = os.getenv('TYPHOON_API_KEY')\n",
    "weaviate_api_key = os.getenv('WEAVIATE_API_KEY')\n",
    "weaviate_url = os.getenv('WEAVIATE_URL')\n",
    "# print(typhoon_api_key)\n",
    "# print(weaviate_api_key)"
   ]
  },
  {
   "cell_type": "code",
   "execution_count": 3,
   "metadata": {},
   "outputs": [
    {
     "name": "stderr",
     "output_type": "stream",
     "text": [
      "c:\\Users\\natdhanai.pra\\Documents\\AI_LLMs\\.venv\\Lib\\site-packages\\tqdm\\auto.py:21: TqdmWarning: IProgress not found. Please update jupyter and ipywidgets. See https://ipywidgets.readthedocs.io/en/stable/user_install.html\n",
      "  from .autonotebook import tqdm as notebook_tqdm\n",
      "c:\\Users\\natdhanai.pra\\Documents\\AI_LLMs\\.venv\\Lib\\site-packages\\weaviate\\warnings.py:340: UserWarning: Con006: You're using the sync client in an async context. This usage is discouraged to avoid blocking your async event loop with sync I/O calls.\n",
      "            We encourage you to update your code to use the async client instead when running inside async def functions!\n",
      "  warnings.warn(\n"
     ]
    },
    {
     "data": {
      "text/plain": [
       "True"
      ]
     },
     "execution_count": 3,
     "metadata": {},
     "output_type": "execute_result"
    }
   ],
   "source": [
    "import weaviate\n",
    "from datasets import load_dataset\n",
    "import os\n",
    "\n",
    "client = weaviate.connect_to_weaviate_cloud(\n",
    "    cluster_url=weaviate_url,\n",
    "    auth_credentials=weaviate.auth.AuthApiKey(weaviate_api_key),\n",
    "    # headers={\"X-OpenAI-Api-Key\": openai_api_key},\n",
    ")\n",
    "\n",
    "\n",
    "client.is_ready()"
   ]
  },
  {
   "cell_type": "code",
   "execution_count": 18,
   "metadata": {},
   "outputs": [],
   "source": [
    "from weaviate.classes.config import Configure\n",
    "questions = client.collections.create(\n",
    "    name=\"Question\",\n",
    "    vectorizer_config=Configure.Vectorizer.text2vec_weaviate(), # Configure the Weaviate Embeddings integration\n",
    "    generative_config=Configure.Generative.cohere()             # Configure the Cohere generative AI integration\n",
    ")"
   ]
  },
  {
   "cell_type": "code",
   "execution_count": null,
   "metadata": {},
   "outputs": [
    {
     "name": "stderr",
     "output_type": "stream",
     "text": [
      "c:\\Users\\natdhanai.pra\\Documents\\AI_LLMs\\.venv\\Lib\\site-packages\\weaviate\\warnings.py:340: UserWarning: Con006: You're using the sync client in an async context. This usage is discouraged to avoid blocking your async event loop with sync I/O calls.\n",
      "            We encourage you to update your code to use the async client instead when running inside async def functions!\n",
      "  warnings.warn(\n"
     ]
    }
   ],
   "source": [
    "import weaviate\n",
    "from weaviate.classes.init import Auth\n",
    "import requests, json, os\n",
    "\n",
    "\n",
    "\n",
    "resp = requests.get(\n",
    "    \"https://raw.githubusercontent.com/weaviate-tutorials/quickstart/main/data/jeopardy_tiny.json\"\n",
    ")\n",
    "data = json.loads(resp.text)\n",
    "\n",
    "questions = client.collections.get(\"Question\")\n",
    "\n",
    "with questions.batch.dynamic() as batch:\n",
    "    for d in data:\n",
    "        batch.add_object({\n",
    "            \"answer\": d[\"Answer\"],\n",
    "            \"question\": d[\"Question\"],\n",
    "            \"category\": d[\"Category\"],\n",
    "        })\n",
    "        if batch.number_errors > 10:\n",
    "            print(\"Batch import stopped due to excessive errors.\")\n",
    "            break\n",
    "\n",
    "failed_objects = questions.batch.failed_objects\n",
    "if failed_objects:\n",
    "    print(f\"Number of failed imports: {len(failed_objects)}\")\n",
    "    print(f\"First failed object: {failed_objects[0]}\")\n",
    "\n"
   ]
  },
  {
   "cell_type": "code",
   "execution_count": 20,
   "metadata": {},
   "outputs": [
    {
     "data": {
      "text/plain": [
       "[{'Category': 'SCIENCE',\n",
       "  'Question': 'This organ removes excess glucose from the blood & stores it as glycogen',\n",
       "  'Answer': 'Liver'},\n",
       " {'Category': 'ANIMALS',\n",
       "  'Question': \"It's the only living mammal in the order Proboseidea\",\n",
       "  'Answer': 'Elephant'},\n",
       " {'Category': 'ANIMALS',\n",
       "  'Question': 'The gavial looks very much like a crocodile except for this bodily feature',\n",
       "  'Answer': 'the nose or snout'},\n",
       " {'Category': 'ANIMALS',\n",
       "  'Question': 'Weighing around a ton, the eland is the largest species of this animal in Africa',\n",
       "  'Answer': 'Antelope'},\n",
       " {'Category': 'ANIMALS',\n",
       "  'Question': 'Heaviest of all poisonous snakes is this North American rattlesnake',\n",
       "  'Answer': 'the diamondback rattler'},\n",
       " {'Category': 'SCIENCE',\n",
       "  'Question': \"2000 news: the Gunnison sage grouse isn't just another northern sage grouse, but a new one of this classification\",\n",
       "  'Answer': 'species'},\n",
       " {'Category': 'SCIENCE',\n",
       "  'Question': 'A metal that is ductile can be pulled into this while cold & under pressure',\n",
       "  'Answer': 'wire'},\n",
       " {'Category': 'SCIENCE',\n",
       "  'Question': 'In 1953 Watson & Crick built a model of the molecular structure of this, the gene-carrying substance',\n",
       "  'Answer': 'DNA'},\n",
       " {'Category': 'SCIENCE',\n",
       "  'Question': 'Changes in the tropospheric layer of this are what gives us weather',\n",
       "  'Answer': 'the atmosphere'},\n",
       " {'Category': 'SCIENCE',\n",
       "  'Question': 'In 70-degree air, a plane traveling at about 1,130 feet per second breaks it',\n",
       "  'Answer': 'Sound barrier'}]"
      ]
     },
     "execution_count": 20,
     "metadata": {},
     "output_type": "execute_result"
    }
   ],
   "source": [
    "data"
   ]
  },
  {
   "cell_type": "code",
   "execution_count": 22,
   "metadata": {},
   "outputs": [
    {
     "name": "stdout",
     "output_type": "stream",
     "text": [
      "{\n",
      "  \"answer\": \"Elephant\",\n",
      "  \"question\": \"It's the only living mammal in the order Proboseidea\",\n",
      "  \"category\": \"ANIMALS\"\n",
      "}\n",
      "{\n",
      "  \"answer\": \"Antelope\",\n",
      "  \"question\": \"Weighing around a ton, the eland is the largest species of this animal in Africa\",\n",
      "  \"category\": \"ANIMALS\"\n",
      "}\n"
     ]
    }
   ],
   "source": [
    "import weaviate\n",
    "from weaviate.classes.init import Auth\n",
    "import os, json\n",
    "\n",
    "questions = client.collections.get(\"Question\")\n",
    "\n",
    "response = questions.query.near_text(\n",
    "    query=\"Thailand\",\n",
    "    limit=2\n",
    ")\n",
    "\n",
    "for obj in response.objects:\n",
    "    print(json.dumps(obj.properties, indent=2))\n",
    "\n"
   ]
  },
  {
   "cell_type": "markdown",
   "metadata": {},
   "source": [
    "## Quires Section using Typhoon API from PydanticAI"
   ]
  },
  {
   "cell_type": "code",
   "execution_count": 7,
   "metadata": {},
   "outputs": [],
   "source": [
    "from pydantic_ai import Agent\n",
    "from pydantic_ai.models.openai import OpenAIModel\n",
    "from pydantic_ai.providers.openai import OpenAIProvider\n",
    "\n",
    "model = OpenAIModel(\n",
    "    'typhoon-v2-70b-instruct',  # model library available at https://www.together.ai/models\n",
    "    provider=OpenAIProvider(\n",
    "        base_url='https://api.opentyphoon.ai/v1',\n",
    "        api_key=typhoon_api_key,\n",
    "    ),\n",
    ")\n",
    "agent = Agent(model)\n"
   ]
  },
  {
   "cell_type": "code",
   "execution_count": 5,
   "metadata": {},
   "outputs": [],
   "source": [
    "import weaviate\n",
    "from weaviate_agents.query import QueryAgent\n",
    "import os\n",
    "\n",
    "from pydantic_ai import Agent, RunContext\n",
    "from typing import Optional, Dict, Any\n",
    "import asyncio\n",
    "from pydantic import BaseModel"
   ]
  },
  {
   "cell_type": "code",
   "execution_count": 9,
   "metadata": {},
   "outputs": [],
   "source": [
    "# Define credential structure\n",
    "class WeaviateCredentials(BaseModel):\n",
    "    weaviate_url: str\n",
    "    weaviate_api_key: str \n",
    "    typhoon_api_key: str\n",
    "    collections: list[str]\n",
    "\n",
    "class HelpfulResponse(BaseModel):\n",
    "    helpful_response: str\n",
    "\n",
    "model = OpenAIModel(\n",
    "    'typhoon-v2-70b-instruct', \n",
    "    provider=OpenAIProvider(\n",
    "        base_url='https://api.opentyphoon.ai/v1',\n",
    "        api_key=typhoon_api_key,\n",
    "    ),\n",
    ")\n",
    "\n",
    "\n",
    "agent = Agent(\n",
    "    model=model,\n",
    "    deps_type=WeaviateCredentials,\n",
    "    result_type=HelpfulResponse,\n",
    "    system_prompt=(\n",
    "        \"You are a helpful assistant that can search a knowledge base to answer questions. \"\n",
    "        \"Use the search tool to find relevant information, then provide a comprehensive answer. \"\n",
    "        \"If the search doesn't return useful information, acknowledge the limitations.\"\n",
    "    ),\n",
    ")\n",
    "\n",
    "@agent.tool\n",
    "def send_query_agent_request(ctx: RunContext[WeaviateCredentials], query: str) -> str:\n",
    "    \"\"\"\n",
    "    Send a query to the Weaviate database and get the response.\n",
    "    Using tool_plain which works better with synchronous functions.\n",
    "\n",
    "    Args:\n",
    "        ctx: The run context containing Weaviate credentials and configuration.\n",
    "        query (str): The question or query to search for in the database.\n",
    "\n",
    "    Returns:\n",
    "        str: The response from the database containing relevant information.\n",
    "    \"\"\"\n",
    "    try:\n",
    "        # Get credentials from dependencies, with environment variables as fallback\n",
    "        creds = ctx.deps\n",
    "        weaviate_url = os.getenv(\"WEAVIATE_URL\")\n",
    "        weaviate_api_key = os.getenv(\"WEAVIATE_API_KEY\")\n",
    "        typhoon_api_key = os.getenv(\"TYPHOON_API_KEY\")\n",
    "        collections = creds.collections or [\"Blogs\"]\n",
    "        \n",
    "        if not all([weaviate_url, weaviate_api_key, typhoon_api_key, collections]):\n",
    "            raise ValueError(\"Missing required credentials\")\n",
    "            \n",
    "        # Connect to Weaviate Cloud instance\n",
    "        weaviate_client = weaviate.connect_to_weaviate_cloud(\n",
    "            cluster_url=weaviate_url,\n",
    "            auth_credentials=weaviate.auth.AuthApiKey(weaviate_api_key),\n",
    "            # headers={\"X-OpenAI-Api-Key\": openai_api_key},\n",
    "        )\n",
    "        \n",
    "        # connect the query agent to your Weaviate collection(s)\n",
    "        query_agent = QueryAgent(\n",
    "            client=weaviate_client,\n",
    "            collections=collections\n",
    "        )\n",
    "        \n",
    "        result = query_agent.run(query)\n",
    "        return result.final_answer\n",
    "    except Exception as e:\n",
    "        return f\"Error querying Weaviate: {str(e)}\""
   ]
  },
  {
   "cell_type": "code",
   "execution_count": 26,
   "metadata": {},
   "outputs": [
    {
     "name": "stdout",
     "output_type": "stream",
     "text": [
      "{'Question': _CollectionConfig(name='Question', description=None, generative_config=_GenerativeConfig(generative=<GenerativeSearches.COHERE: 'generative-cohere'>, model={}), inverted_index_config=_InvertedIndexConfig(bm25=_BM25Config(b=0.75, k1=1.2), cleanup_interval_seconds=60, index_null_state=False, index_property_length=False, index_timestamps=False, stopwords=_StopwordsConfig(preset=<StopwordsPreset.EN: 'en'>, additions=None, removals=None)), multi_tenancy_config=_MultiTenancyConfig(enabled=False, auto_tenant_creation=False, auto_tenant_activation=False), properties=[_Property(name='answer', description=\"This property was generated by Weaviate's auto-schema feature on Sat Mar 22 10:45:15 2025\", data_type=<DataType.TEXT: 'text'>, index_filterable=True, index_range_filters=False, index_searchable=True, nested_properties=None, tokenization=<Tokenization.WORD: 'word'>, vectorizer_config=_PropertyVectorizerConfig(skip=False, vectorize_property_name=False), vectorizer='text2vec-weaviate', vectorizer_configs=None), _Property(name='category', description=\"This property was generated by Weaviate's auto-schema feature on Sat Mar 22 10:45:15 2025\", data_type=<DataType.TEXT: 'text'>, index_filterable=True, index_range_filters=False, index_searchable=True, nested_properties=None, tokenization=<Tokenization.WORD: 'word'>, vectorizer_config=_PropertyVectorizerConfig(skip=False, vectorize_property_name=False), vectorizer='text2vec-weaviate', vectorizer_configs=None), _Property(name='question', description=\"This property was generated by Weaviate's auto-schema feature on Sat Mar 22 10:45:15 2025\", data_type=<DataType.TEXT: 'text'>, index_filterable=True, index_range_filters=False, index_searchable=True, nested_properties=None, tokenization=<Tokenization.WORD: 'word'>, vectorizer_config=_PropertyVectorizerConfig(skip=False, vectorize_property_name=False), vectorizer='text2vec-weaviate', vectorizer_configs=None)], references=[], replication_config=_ReplicationConfig(factor=1, async_enabled=False, deletion_strategy=<ReplicationDeletionStrategy.NO_AUTOMATED_RESOLUTION: 'NoAutomatedResolution'>), reranker_config=None, sharding_config=_ShardingConfig(virtual_per_physical=128, desired_count=1, actual_count=1, desired_virtual_count=128, actual_virtual_count=128, key='_id', strategy='hash', function='murmur3'), vector_index_config=_VectorIndexConfigHNSW(multi_vector=None, quantizer=None, cleanup_interval_seconds=300, distance_metric=<VectorDistances.COSINE: 'cosine'>, dynamic_ef_min=100, dynamic_ef_max=500, dynamic_ef_factor=8, ef=-1, ef_construction=128, filter_strategy=<VectorFilterStrategy.SWEEPING: 'sweeping'>, flat_search_cutoff=40000, max_connections=32, skip=False, vector_cache_max_objects=1000000000000), vector_index_type=<VectorIndexType.HNSW: 'hnsw'>, vectorizer_config=_VectorizerConfig(vectorizer=<Vectorizers.TEXT2VEC_WEAVIATE: 'text2vec-weaviate'>, model={'baseUrl': 'https://api.embedding.weaviate.io', 'model': 'Snowflake/snowflake-arctic-embed-l-v2.0', 'truncate': 'right'}, vectorize_collection_name=True), vectorizer=<Vectorizers.TEXT2VEC_WEAVIATE: 'text2vec-weaviate'>, vector_config=None)}\n"
     ]
    }
   ],
   "source": [
    "response = client.collections.list_all(simple=False)\n",
    "\n",
    "print(response)"
   ]
  },
  {
   "cell_type": "code",
   "execution_count": 27,
   "metadata": {},
   "outputs": [
    {
     "data": {
      "text/plain": [
       "[{'Category': 'SCIENCE',\n",
       "  'Question': 'This organ removes excess glucose from the blood & stores it as glycogen',\n",
       "  'Answer': 'Liver'},\n",
       " {'Category': 'ANIMALS',\n",
       "  'Question': \"It's the only living mammal in the order Proboseidea\",\n",
       "  'Answer': 'Elephant'},\n",
       " {'Category': 'ANIMALS',\n",
       "  'Question': 'The gavial looks very much like a crocodile except for this bodily feature',\n",
       "  'Answer': 'the nose or snout'},\n",
       " {'Category': 'ANIMALS',\n",
       "  'Question': 'Weighing around a ton, the eland is the largest species of this animal in Africa',\n",
       "  'Answer': 'Antelope'},\n",
       " {'Category': 'ANIMALS',\n",
       "  'Question': 'Heaviest of all poisonous snakes is this North American rattlesnake',\n",
       "  'Answer': 'the diamondback rattler'},\n",
       " {'Category': 'SCIENCE',\n",
       "  'Question': \"2000 news: the Gunnison sage grouse isn't just another northern sage grouse, but a new one of this classification\",\n",
       "  'Answer': 'species'},\n",
       " {'Category': 'SCIENCE',\n",
       "  'Question': 'A metal that is ductile can be pulled into this while cold & under pressure',\n",
       "  'Answer': 'wire'},\n",
       " {'Category': 'SCIENCE',\n",
       "  'Question': 'In 1953 Watson & Crick built a model of the molecular structure of this, the gene-carrying substance',\n",
       "  'Answer': 'DNA'},\n",
       " {'Category': 'SCIENCE',\n",
       "  'Question': 'Changes in the tropospheric layer of this are what gives us weather',\n",
       "  'Answer': 'the atmosphere'},\n",
       " {'Category': 'SCIENCE',\n",
       "  'Question': 'In 70-degree air, a plane traveling at about 1,130 feet per second breaks it',\n",
       "  'Answer': 'Sound barrier'}]"
      ]
     },
     "execution_count": 27,
     "metadata": {},
     "output_type": "execute_result"
    }
   ],
   "source": [
    "data"
   ]
  },
  {
   "cell_type": "code",
   "execution_count": 28,
   "metadata": {},
   "outputs": [
    {
     "name": "stderr",
     "output_type": "stream",
     "text": [
      "c:\\Users\\natdhanai.pra\\Documents\\AI_LLMs\\.venv\\Lib\\site-packages\\weaviate\\warnings.py:314: ResourceWarning: Con004: The connection to Weaviate was not closed properly. This can lead to memory leaks.\n",
      "            Please make sure to close the connection using `client.close()`.\n",
      "  warnings.warn(\n"
     ]
    },
    {
     "name": "stdout",
     "output_type": "stream",
     "text": [
      "In 1953, a significant scientific event was the discovery of the DNA double helix structure by James Watson and Francis Crick. They built the first accurate model of DNA's molecular structure, which is essential for carrying genetic information. This discovery marked a pivotal moment in the field of genetics and biology, paving the way for advances in understanding genetic coding and heredity.\n"
     ]
    }
   ],
   "source": [
    "custom_credentials = WeaviateCredentials(\n",
    "    weaviate_url=os.getenv(\"WEAVIATE_URL\"),\n",
    "    weaviate_api_key=os.getenv(\"WEAVIATE_API_KEY\"), \n",
    "    typhoon_api_key=os.getenv(\"TYPHOON_API_KEY\"),\n",
    "    collections=[\"Question\"]\n",
    ")\n",
    "\n",
    "\n",
    "response = await agent.run(\n",
    "    \"What happened In 1953?\",\n",
    "    deps=custom_credentials\n",
    ")\n",
    "print(response.data.helpful_response)"
   ]
  },
  {
   "cell_type": "code",
   "execution_count": 10,
   "metadata": {},
   "outputs": [
    {
     "name": "stderr",
     "output_type": "stream",
     "text": [
      "c:\\Users\\natdhanai.pra\\Documents\\AI_LLMs\\.venv\\Lib\\site-packages\\weaviate\\warnings.py:314: ResourceWarning: Con004: The connection to Weaviate was not closed properly. This can lead to memory leaks.\n",
      "            Please make sure to close the connection using `client.close()`.\n",
      "  warnings.warn(\n"
     ]
    },
    {
     "name": "stdout",
     "output_type": "stream",
     "text": [
      "I'm sorry, but I couldn't find any specific events scheduled for 2025 in the provided search results.\n"
     ]
    }
   ],
   "source": [
    "custom_credentials = WeaviateCredentials(\n",
    "    weaviate_url=os.getenv(\"WEAVIATE_URL\"),\n",
    "    weaviate_api_key=os.getenv(\"WEAVIATE_API_KEY\"), \n",
    "    typhoon_api_key=os.getenv(\"TYPHOON_API_KEY\"),\n",
    "    collections=[\"Question\"]\n",
    ")\n",
    "\n",
    "\n",
    "response = await agent.run(\n",
    "    \"What happened In 2025?\",\n",
    "    deps=custom_credentials\n",
    ")\n",
    "print(response.data.helpful_response)"
   ]
  },
  {
   "cell_type": "code",
   "execution_count": 11,
   "metadata": {},
   "outputs": [
    {
     "name": "stderr",
     "output_type": "stream",
     "text": [
      "C:\\Program Files\\WindowsApps\\PythonSoftwareFoundation.Python.3.11_3.11.2544.0_x64__qbz5n2kfra8p0\\Lib\\asyncio\\selector_events.py:868: ResourceWarning: unclosed transport <_SelectorSocketTransport fd=4360 read=idle write=<idle, bufsize=0>>\n",
      "  _warn(f\"unclosed transport {self!r}\", ResourceWarning, source=self)\n",
      "ResourceWarning: Enable tracemalloc to get the object allocation traceback\n",
      "C:\\Program Files\\WindowsApps\\PythonSoftwareFoundation.Python.3.11_3.11.2544.0_x64__qbz5n2kfra8p0\\Lib\\asyncio\\selector_events.py:868: ResourceWarning: unclosed transport <_SelectorSocketTransport fd=3004 read=idle write=<idle, bufsize=0>>\n",
      "  _warn(f\"unclosed transport {self!r}\", ResourceWarning, source=self)\n",
      "ResourceWarning: Enable tracemalloc to get the object allocation traceback\n"
     ]
    },
    {
     "name": "stdout",
     "output_type": "stream",
     "text": [
      "In 1953, a significant scientific milestone was achieved with the construction of the DNA model. James Watson and Francis Crick built a model of the molecular structure of DNA, which is the gene-carrying substance crucial to understanding genetics and hereditary processes.\n"
     ]
    }
   ],
   "source": [
    "custom_credentials = WeaviateCredentials(\n",
    "    weaviate_url=os.getenv(\"WEAVIATE_URL\"),\n",
    "    weaviate_api_key=os.getenv(\"WEAVIATE_API_KEY\"), \n",
    "    typhoon_api_key=os.getenv(\"TYPHOON_API_KEY\"),\n",
    "    collections=[\"Question\"]\n",
    ")\n",
    "\n",
    "\n",
    "response = await agent.run(\n",
    "    \"เกิดอะไรขึ้นในปี 1953?\",\n",
    "    deps=custom_credentials\n",
    ")\n",
    "print(response.data.helpful_response)"
   ]
  },
  {
   "cell_type": "code",
   "execution_count": null,
   "metadata": {},
   "outputs": [],
   "source": []
  }
 ],
 "metadata": {
  "kernelspec": {
   "display_name": ".venv",
   "language": "python",
   "name": "python3"
  },
  "language_info": {
   "codemirror_mode": {
    "name": "ipython",
    "version": 3
   },
   "file_extension": ".py",
   "mimetype": "text/x-python",
   "name": "python",
   "nbconvert_exporter": "python",
   "pygments_lexer": "ipython3",
   "version": "3.11.9"
  }
 },
 "nbformat": 4,
 "nbformat_minor": 2
}
